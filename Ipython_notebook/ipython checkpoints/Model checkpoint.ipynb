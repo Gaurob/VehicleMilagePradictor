{
 "cells": [
  {
   "cell_type": "code",
   "execution_count": 1,
   "metadata": {},
   "outputs": [],
   "source": [
    "import pandas as pd\n",
    "import numpy as np\n",
    "from sklearn import pipeline,preprocessing,metrics,model_selection,ensemble\n",
    "from sklearn_pandas import DataFrameMapper\n",
    "import joblib"
   ]
  },
  {
   "cell_type": "code",
   "execution_count": 2,
   "metadata": {},
   "outputs": [],
   "source": [
    "data=pd.read_csv('E:/project1/MyWebApp/mpg_data_example.csv')"
   ]
  },
  {
   "cell_type": "code",
   "execution_count": 3,
   "metadata": {},
   "outputs": [
    {
     "data": {
      "text/html": [
       "<div>\n",
       "<style scoped>\n",
       "    .dataframe tbody tr th:only-of-type {\n",
       "        vertical-align: middle;\n",
       "    }\n",
       "\n",
       "    .dataframe tbody tr th {\n",
       "        vertical-align: top;\n",
       "    }\n",
       "\n",
       "    .dataframe thead th {\n",
       "        text-align: right;\n",
       "    }\n",
       "</style>\n",
       "<table border=\"1\" class=\"dataframe\">\n",
       "  <thead>\n",
       "    <tr style=\"text-align: right;\">\n",
       "      <th></th>\n",
       "      <th>mpg</th>\n",
       "      <th>cylinders</th>\n",
       "      <th>displacement</th>\n",
       "      <th>horsepower</th>\n",
       "      <th>weight</th>\n",
       "      <th>acceleration</th>\n",
       "      <th>model year</th>\n",
       "      <th>origin</th>\n",
       "      <th>car name</th>\n",
       "    </tr>\n",
       "  </thead>\n",
       "  <tbody>\n",
       "    <tr>\n",
       "      <th>0</th>\n",
       "      <td>18.0</td>\n",
       "      <td>8</td>\n",
       "      <td>307.0</td>\n",
       "      <td>130</td>\n",
       "      <td>3504</td>\n",
       "      <td>12.0</td>\n",
       "      <td>70</td>\n",
       "      <td>1</td>\n",
       "      <td>chevrolet chevelle malibu</td>\n",
       "    </tr>\n",
       "    <tr>\n",
       "      <th>1</th>\n",
       "      <td>15.0</td>\n",
       "      <td>8</td>\n",
       "      <td>350.0</td>\n",
       "      <td>165</td>\n",
       "      <td>3693</td>\n",
       "      <td>11.5</td>\n",
       "      <td>70</td>\n",
       "      <td>1</td>\n",
       "      <td>buick skylark 320</td>\n",
       "    </tr>\n",
       "    <tr>\n",
       "      <th>2</th>\n",
       "      <td>18.0</td>\n",
       "      <td>8</td>\n",
       "      <td>318.0</td>\n",
       "      <td>150</td>\n",
       "      <td>3436</td>\n",
       "      <td>11.0</td>\n",
       "      <td>70</td>\n",
       "      <td>1</td>\n",
       "      <td>plymouth satellite</td>\n",
       "    </tr>\n",
       "    <tr>\n",
       "      <th>3</th>\n",
       "      <td>16.0</td>\n",
       "      <td>8</td>\n",
       "      <td>304.0</td>\n",
       "      <td>150</td>\n",
       "      <td>3433</td>\n",
       "      <td>12.0</td>\n",
       "      <td>70</td>\n",
       "      <td>1</td>\n",
       "      <td>amc rebel sst</td>\n",
       "    </tr>\n",
       "    <tr>\n",
       "      <th>4</th>\n",
       "      <td>17.0</td>\n",
       "      <td>8</td>\n",
       "      <td>302.0</td>\n",
       "      <td>140</td>\n",
       "      <td>3449</td>\n",
       "      <td>10.5</td>\n",
       "      <td>70</td>\n",
       "      <td>1</td>\n",
       "      <td>ford torino</td>\n",
       "    </tr>\n",
       "  </tbody>\n",
       "</table>\n",
       "</div>"
      ],
      "text/plain": [
       "    mpg  cylinders  displacement  horsepower  weight  acceleration  \\\n",
       "0  18.0          8         307.0         130    3504          12.0   \n",
       "1  15.0          8         350.0         165    3693          11.5   \n",
       "2  18.0          8         318.0         150    3436          11.0   \n",
       "3  16.0          8         304.0         150    3433          12.0   \n",
       "4  17.0          8         302.0         140    3449          10.5   \n",
       "\n",
       "   model year  origin                   car name  \n",
       "0          70       1  chevrolet chevelle malibu  \n",
       "1          70       1          buick skylark 320  \n",
       "2          70       1         plymouth satellite  \n",
       "3          70       1              amc rebel sst  \n",
       "4          70       1                ford torino  "
      ]
     },
     "execution_count": 3,
     "metadata": {},
     "output_type": "execute_result"
    }
   ],
   "source": [
    "data.head()"
   ]
  },
  {
   "cell_type": "code",
   "execution_count": 4,
   "metadata": {},
   "outputs": [
    {
     "data": {
      "text/plain": [
       "mpg             0\n",
       "cylinders       0\n",
       "displacement    0\n",
       "horsepower      0\n",
       "weight          0\n",
       "acceleration    0\n",
       "model year      0\n",
       "origin          0\n",
       "car name        0\n",
       "dtype: int64"
      ]
     },
     "execution_count": 4,
     "metadata": {},
     "output_type": "execute_result"
    }
   ],
   "source": [
    "data.isnull().sum()"
   ]
  },
  {
   "cell_type": "code",
   "execution_count": 6,
   "metadata": {},
   "outputs": [],
   "source": [
    "mapper = DataFrameMapper([\n",
    "                        (['cylinders','displacement','weight','acceleration','model year'], preprocessing.StandardScaler()),\n",
    "                    \n",
    "                        (['origin'], preprocessing.OneHotEncoder(handle_unknown='ignore'))\n",
    "                        ])"
   ]
  },
  {
   "cell_type": "code",
   "execution_count": 7,
   "metadata": {},
   "outputs": [],
   "source": [
    "pipeline_obj = pipeline.Pipeline([\n",
    "    ('mapper',mapper),\n",
    "    (\"model\", ensemble.RandomForestRegressor())\n",
    "])"
   ]
  },
  {
   "cell_type": "code",
   "execution_count": 8,
   "metadata": {},
   "outputs": [
    {
     "data": {
      "text/plain": [
       "Index(['mpg', 'cylinders', 'displacement', 'horsepower', 'weight',\n",
       "       'acceleration', 'model year', 'origin', 'car name'],\n",
       "      dtype='object')"
      ]
     },
     "execution_count": 8,
     "metadata": {},
     "output_type": "execute_result"
    }
   ],
   "source": [
    "data.columns"
   ]
  },
  {
   "cell_type": "code",
   "execution_count": 9,
   "metadata": {},
   "outputs": [],
   "source": [
    "X=['cylinders', 'displacement', 'horsepower', 'weight',\n",
    "       'acceleration', 'model year', 'origin']\n",
    "Y=['mpg']"
   ]
  },
  {
   "cell_type": "code",
   "execution_count": 10,
   "metadata": {},
   "outputs": [
    {
     "name": "stderr",
     "output_type": "stream",
     "text": [
      "c:\\users\\gaurob\\envs\\project\\lib\\site-packages\\sklearn\\pipeline.py:346: DataConversionWarning: A column-vector y was passed when a 1d array was expected. Please change the shape of y to (n_samples,), for example using ravel().\n",
      "  self._final_estimator.fit(Xt, y, **fit_params_last_step)\n"
     ]
    },
    {
     "data": {
      "text/plain": [
       "Pipeline(steps=[('mapper',\n",
       "                 DataFrameMapper(drop_cols=[],\n",
       "                                 features=[(['cylinders', 'displacement',\n",
       "                                             'weight', 'acceleration',\n",
       "                                             'model year'],\n",
       "                                            StandardScaler()),\n",
       "                                           (['origin'],\n",
       "                                            OneHotEncoder(handle_unknown='ignore'))])),\n",
       "                ('model', RandomForestRegressor())])"
      ]
     },
     "execution_count": 10,
     "metadata": {},
     "output_type": "execute_result"
    }
   ],
   "source": [
    "pipeline_obj.fit(data[X],data[Y])"
   ]
  },
  {
   "cell_type": "code",
   "execution_count": 11,
   "metadata": {},
   "outputs": [
    {
     "data": {
      "text/plain": [
       "array([17.39 , 14.55 , 17.15 , 16.491, 16.741, 14.63 , 13.95 , 14.25 ,\n",
       "       13.21 , 14.73 , 14.75 , 14.382, 14.95 , 14.738, 23.95 , 21.34 ,\n",
       "       19.365, 20.926, 27.195, 26.43 , 24.36 , 24.089, 24.729, 24.929,\n",
       "       20.98 , 10.61 , 10.965, 11.63 ,  9.73 , 27.215, 26.535, 24.63 ,\n",
       "       25.735, 19.492, 16.928, 17.56 , 18.65 , 18.166, 13.995, 13.4  ,\n",
       "       14.12 , 13.97 , 12.23 , 12.9  , 12.7  , 18.29 , 21.8  , 18.73 ,\n",
       "       18.414, 23.765, 27.38 , 29.404, 29.185, 31.635, 33.435, 27.2  ,\n",
       "       26.75 , 24.087, 25.65 , 23.07 , 20.51 , 22.08 , 13.52 , 13.61 ,\n",
       "       14.46 , 13.99 , 15.895, 11.78 , 12.68 , 12.36 , 13.18 , 20.327,\n",
       "       14.895, 13.425, 13.13 , 13.87 , 19.08 , 22.117, 20.75 , 25.945,\n",
       "       22.395, 25.83 , 22.571, 27.325, 26.87 , 13.36 , 14.525, 13.32 ,\n",
       "       13.905, 14.58 , 12.01 , 13.065, 13.14 , 13.91 , 12.67 , 12.16 ,\n",
       "       13.18 , 18.564, 16.619, 18.542, 18.025, 21.982, 26.53 , 11.36 ,\n",
       "       12.09 , 12.85 , 12.39 , 18.46 , 22.01 , 20.74 , 22.82 , 22.344,\n",
       "       20.127, 21.26 , 25.91 , 14.28 , 15.065, 28.59 , 24.91 , 21.32 ,\n",
       "       19.675, 15.568, 22.925, 20.23 , 12.07 , 20.003, 20.746, 19.495,\n",
       "       16.066, 31.003, 25.555, 31.3  , 24.795, 15.975, 15.962, 17.876,\n",
       "       15.26 , 13.56 , 14.14 , 13.93 , 14.18 , 27.64 , 27.315, 26.503,\n",
       "       31.635, 31.6  , 27.54 , 25.485, 26.02 , 24.237, 25.489, 29.945,\n",
       "       19.437, 17.804, 15.627, 15.855, 15.33 , 14.865, 15.405, 14.45 ,\n",
       "       17.196, 16.1  , 15.385, 17.576, 20.507, 19.471, 15.191, 28.315,\n",
       "       23.416, 19.796, 22.871, 23.998, 25.659, 24.037, 18.797, 28.905,\n",
       "       18.87 , 23.486, 22.113, 21.21 , 24.291, 32.395, 26.626, 25.269,\n",
       "       25.028, 26.17 , 26.999, 16.665, 15.845, 15.127, 15.065, 21.344,\n",
       "       20.681, 22.88 , 21.317, 29.71 , 25.54 , 29.095, 32.561, 19.402,\n",
       "       18.342, 18.594, 18.276, 29.616, 31.725, 27.925, 25.684, 19.867,\n",
       "       13.924, 19.735, 19.457, 16.913, 15.74 , 13.875, 13.969, 13.792,\n",
       "       31.248, 29.631, 34.233, 25.779, 33.055, 16.333, 16.777, 15.66 ,\n",
       "       15.299, 17.964, 20.326, 19.091, 18.365, 15.875, 15.59 , 15.695,\n",
       "       15.684, 29.699, 24.624, 25.983, 25.028, 30.58 , 32.314, 30.291,\n",
       "       30.069, 21.742, 23.08 , 23.067, 39.681, 35.61 , 33.668, 37.097,\n",
       "       35.782, 19.621, 19.085, 19.661, 19.143, 20.309, 20.558, 24.653,\n",
       "       19.994, 19.683, 20.724, 20.644, 18.794, 18.782, 19.162, 18.556,\n",
       "       18.586, 17.189, 30.77 , 25.556, 27.239, 29.928, 22.736, 23.536,\n",
       "       23.357, 24.816, 21.697, 17.74 , 22.359, 17.435, 32.475, 31.185,\n",
       "       21.284, 20.967, 23.476, 20.275, 20.327, 17.583, 18.449, 17.089,\n",
       "       18.07 , 16.574, 16.078, 19.563, 17.834, 33.529, 34.012, 35.567,\n",
       "       28.22 , 25.714, 21.5  , 26.906, 22.247, 34.477, 34.649, 34.229,\n",
       "       37.217, 27.789, 28.542, 26.133, 31.68 , 38.984, 36.889, 33.612,\n",
       "       36.953, 27.883, 25.601, 25.021, 19.929, 34.415, 29.808, 31.675,\n",
       "       34.991, 33.157, 42.095, 26.968, 40.363, 43.296, 40.67 , 33.344,\n",
       "       28.571, 39.611, 38.654, 35.156, 32.107, 30.873, 27.549, 34.315,\n",
       "       24.297, 32.797, 28.839, 27.089, 26.501, 24.461, 30.882, 38.502,\n",
       "       37.763, 36.145, 34.259, 37.039, 36.685, 34.758, 34.705, 34.598,\n",
       "       32.574, 33.966, 34.189, 34.176, 32.689, 32.295, 31.176, 28.114,\n",
       "       27.725, 26.073, 25.602, 21.822, 24.523, 21.979, 19.163, 28.791,\n",
       "       28.211, 32.745, 30.172, 29.614, 27.05 , 24.972, 24.205, 35.501,\n",
       "       36.331, 32.92 , 37.353, 36.001, 35.827, 35.548, 33.68 , 36.149,\n",
       "       32.933, 36.608, 25.331, 32.64 , 27.08 , 25.024, 30.432, 33.96 ,\n",
       "       25.89 , 26.89 , 43.186, 32.112, 28.581, 29.647])"
      ]
     },
     "execution_count": 11,
     "metadata": {},
     "output_type": "execute_result"
    }
   ],
   "source": [
    "pipeline_obj.predict(data[X])"
   ]
  },
  {
   "cell_type": "code",
   "execution_count": 12,
   "metadata": {},
   "outputs": [
    {
     "data": {
      "text/plain": [
       "['RFModelforMPG.pkl']"
      ]
     },
     "execution_count": 12,
     "metadata": {},
     "output_type": "execute_result"
    }
   ],
   "source": [
    "joblib.dump(pipeline_obj,'RFModelforMPG.pkl')"
   ]
  },
  {
   "cell_type": "code",
   "execution_count": 13,
   "metadata": {},
   "outputs": [],
   "source": [
    "modelReload=joblib.load('RFModelforMPG.pkl')"
   ]
  },
  {
   "cell_type": "code",
   "execution_count": 14,
   "metadata": {},
   "outputs": [
    {
     "data": {
      "text/plain": [
       "array([17.39 , 14.55 , 17.15 , 16.491, 16.741, 14.63 , 13.95 , 14.25 ,\n",
       "       13.21 , 14.73 , 14.75 , 14.382, 14.95 , 14.738, 23.95 , 21.34 ,\n",
       "       19.365, 20.926, 27.195, 26.43 , 24.36 , 24.089, 24.729, 24.929,\n",
       "       20.98 , 10.61 , 10.965, 11.63 ,  9.73 , 27.215, 26.535, 24.63 ,\n",
       "       25.735, 19.492, 16.928, 17.56 , 18.65 , 18.166, 13.995, 13.4  ,\n",
       "       14.12 , 13.97 , 12.23 , 12.9  , 12.7  , 18.29 , 21.8  , 18.73 ,\n",
       "       18.414, 23.765, 27.38 , 29.404, 29.185, 31.635, 33.435, 27.2  ,\n",
       "       26.75 , 24.087, 25.65 , 23.07 , 20.51 , 22.08 , 13.52 , 13.61 ,\n",
       "       14.46 , 13.99 , 15.895, 11.78 , 12.68 , 12.36 , 13.18 , 20.327,\n",
       "       14.895, 13.425, 13.13 , 13.87 , 19.08 , 22.117, 20.75 , 25.945,\n",
       "       22.395, 25.83 , 22.571, 27.325, 26.87 , 13.36 , 14.525, 13.32 ,\n",
       "       13.905, 14.58 , 12.01 , 13.065, 13.14 , 13.91 , 12.67 , 12.16 ,\n",
       "       13.18 , 18.564, 16.619, 18.542, 18.025, 21.982, 26.53 , 11.36 ,\n",
       "       12.09 , 12.85 , 12.39 , 18.46 , 22.01 , 20.74 , 22.82 , 22.344,\n",
       "       20.127, 21.26 , 25.91 , 14.28 , 15.065, 28.59 , 24.91 , 21.32 ,\n",
       "       19.675, 15.568, 22.925, 20.23 , 12.07 , 20.003, 20.746, 19.495,\n",
       "       16.066, 31.003, 25.555, 31.3  , 24.795, 15.975, 15.962, 17.876,\n",
       "       15.26 , 13.56 , 14.14 , 13.93 , 14.18 , 27.64 , 27.315, 26.503,\n",
       "       31.635, 31.6  , 27.54 , 25.485, 26.02 , 24.237, 25.489, 29.945,\n",
       "       19.437, 17.804, 15.627, 15.855, 15.33 , 14.865, 15.405, 14.45 ,\n",
       "       17.196, 16.1  , 15.385, 17.576, 20.507, 19.471, 15.191, 28.315,\n",
       "       23.416, 19.796, 22.871, 23.998, 25.659, 24.037, 18.797, 28.905,\n",
       "       18.87 , 23.486, 22.113, 21.21 , 24.291, 32.395, 26.626, 25.269,\n",
       "       25.028, 26.17 , 26.999, 16.665, 15.845, 15.127, 15.065, 21.344,\n",
       "       20.681, 22.88 , 21.317, 29.71 , 25.54 , 29.095, 32.561, 19.402,\n",
       "       18.342, 18.594, 18.276, 29.616, 31.725, 27.925, 25.684, 19.867,\n",
       "       13.924, 19.735, 19.457, 16.913, 15.74 , 13.875, 13.969, 13.792,\n",
       "       31.248, 29.631, 34.233, 25.779, 33.055, 16.333, 16.777, 15.66 ,\n",
       "       15.299, 17.964, 20.326, 19.091, 18.365, 15.875, 15.59 , 15.695,\n",
       "       15.684, 29.699, 24.624, 25.983, 25.028, 30.58 , 32.314, 30.291,\n",
       "       30.069, 21.742, 23.08 , 23.067, 39.681, 35.61 , 33.668, 37.097,\n",
       "       35.782, 19.621, 19.085, 19.661, 19.143, 20.309, 20.558, 24.653,\n",
       "       19.994, 19.683, 20.724, 20.644, 18.794, 18.782, 19.162, 18.556,\n",
       "       18.586, 17.189, 30.77 , 25.556, 27.239, 29.928, 22.736, 23.536,\n",
       "       23.357, 24.816, 21.697, 17.74 , 22.359, 17.435, 32.475, 31.185,\n",
       "       21.284, 20.967, 23.476, 20.275, 20.327, 17.583, 18.449, 17.089,\n",
       "       18.07 , 16.574, 16.078, 19.563, 17.834, 33.529, 34.012, 35.567,\n",
       "       28.22 , 25.714, 21.5  , 26.906, 22.247, 34.477, 34.649, 34.229,\n",
       "       37.217, 27.789, 28.542, 26.133, 31.68 , 38.984, 36.889, 33.612,\n",
       "       36.953, 27.883, 25.601, 25.021, 19.929, 34.415, 29.808, 31.675,\n",
       "       34.991, 33.157, 42.095, 26.968, 40.363, 43.296, 40.67 , 33.344,\n",
       "       28.571, 39.611, 38.654, 35.156, 32.107, 30.873, 27.549, 34.315,\n",
       "       24.297, 32.797, 28.839, 27.089, 26.501, 24.461, 30.882, 38.502,\n",
       "       37.763, 36.145, 34.259, 37.039, 36.685, 34.758, 34.705, 34.598,\n",
       "       32.574, 33.966, 34.189, 34.176, 32.689, 32.295, 31.176, 28.114,\n",
       "       27.725, 26.073, 25.602, 21.822, 24.523, 21.979, 19.163, 28.791,\n",
       "       28.211, 32.745, 30.172, 29.614, 27.05 , 24.972, 24.205, 35.501,\n",
       "       36.331, 32.92 , 37.353, 36.001, 35.827, 35.548, 33.68 , 36.149,\n",
       "       32.933, 36.608, 25.331, 32.64 , 27.08 , 25.024, 30.432, 33.96 ,\n",
       "       25.89 , 26.89 , 43.186, 32.112, 28.581, 29.647])"
      ]
     },
     "execution_count": 14,
     "metadata": {},
     "output_type": "execute_result"
    }
   ],
   "source": [
    "modelReload.predict(data[X])"
   ]
  },
  {
   "cell_type": "code",
   "execution_count": 15,
   "metadata": {},
   "outputs": [],
   "source": [
    "temp={}\n",
    "temp['cylinders']=1\n",
    "temp['displacement']=2\n",
    "temp['horsepower']=3\n",
    "temp['weight']=4\n",
    "temp['acceleration']=5\n",
    "temp['model year']=6\n",
    "temp['origin']=1"
   ]
  },
  {
   "cell_type": "code",
   "execution_count": 16,
   "metadata": {},
   "outputs": [],
   "source": [
    "testDtaa=pd.DataFrame({'x':temp}).transpose()"
   ]
  },
  {
   "cell_type": "code",
   "execution_count": 17,
   "metadata": {},
   "outputs": [
    {
     "data": {
      "text/html": [
       "<div>\n",
       "<style scoped>\n",
       "    .dataframe tbody tr th:only-of-type {\n",
       "        vertical-align: middle;\n",
       "    }\n",
       "\n",
       "    .dataframe tbody tr th {\n",
       "        vertical-align: top;\n",
       "    }\n",
       "\n",
       "    .dataframe thead th {\n",
       "        text-align: right;\n",
       "    }\n",
       "</style>\n",
       "<table border=\"1\" class=\"dataframe\">\n",
       "  <thead>\n",
       "    <tr style=\"text-align: right;\">\n",
       "      <th></th>\n",
       "      <th>acceleration</th>\n",
       "      <th>cylinders</th>\n",
       "      <th>displacement</th>\n",
       "      <th>horsepower</th>\n",
       "      <th>model year</th>\n",
       "      <th>origin</th>\n",
       "      <th>weight</th>\n",
       "    </tr>\n",
       "  </thead>\n",
       "  <tbody>\n",
       "    <tr>\n",
       "      <th>x</th>\n",
       "      <td>5</td>\n",
       "      <td>1</td>\n",
       "      <td>2</td>\n",
       "      <td>3</td>\n",
       "      <td>6</td>\n",
       "      <td>1</td>\n",
       "      <td>4</td>\n",
       "    </tr>\n",
       "  </tbody>\n",
       "</table>\n",
       "</div>"
      ],
      "text/plain": [
       "   acceleration  cylinders  displacement  horsepower  model year  origin  \\\n",
       "x             5          1             2           3           6       1   \n",
       "\n",
       "   weight  \n",
       "x       4  "
      ]
     },
     "execution_count": 17,
     "metadata": {},
     "output_type": "execute_result"
    }
   ],
   "source": [
    "testDtaa"
   ]
  },
  {
   "cell_type": "code",
   "execution_count": 18,
   "metadata": {},
   "outputs": [
    {
     "data": {
      "text/plain": [
       "28.01"
      ]
     },
     "execution_count": 18,
     "metadata": {},
     "output_type": "execute_result"
    }
   ],
   "source": [
    "modelReload.predict(testDtaa)[0]"
   ]
  },
  {
   "cell_type": "code",
   "execution_count": null,
   "metadata": {},
   "outputs": [],
   "source": []
  }
 ],
 "metadata": {
  "kernelspec": {
   "display_name": "projectkernel",
   "language": "python",
   "name": "projectkernel"
  },
  "language_info": {
   "codemirror_mode": {
    "name": "ipython",
    "version": 3
   },
   "file_extension": ".py",
   "mimetype": "text/x-python",
   "name": "python",
   "nbconvert_exporter": "python",
   "pygments_lexer": "ipython3",
   "version": "3.7.4"
  }
 },
 "nbformat": 4,
 "nbformat_minor": 2
}
